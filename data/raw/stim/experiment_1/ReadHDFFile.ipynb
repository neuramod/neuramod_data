{
 "cells": [
  {
   "cell_type": "code",
   "execution_count": 3,
   "id": "74ffb8c5",
   "metadata": {},
   "outputs": [
    {
     "name": "stdout",
     "output_type": "stream",
     "text": [
      "[array([8007, 4845]), array([10270,  4936]), array([11074,  4565]), array([7824, 5756]), array([11396,  6265]), array([11172,  6188]), array([10927,  5585]), array([10504,  5950]), array([9956, 5258]), array([7920, 5282]), array([8299, 5567]), array([8400, 6098])]\n"
     ]
    }
   ],
   "source": [
    "import h5py\n",
    "filename = \"dataset.h5\"\n",
    "token = \"0_0_4_6_11_9_11_4_10_8_8_0_\"\n",
    "data_type = \"points\" # image, points\n",
    "\n",
    "entry = \"{}{}\".format(token,data_type)\n",
    "\n",
    "with h5py.File(filename, \"r\") as f:\n",
    "    # List all groups\n",
    "    #print(\"Keys: %s\" % f.keys())\n",
    "    #a_group_key = list(f.keys())[0]\n",
    "\n",
    "    # Get the data\n",
    "    data = list(f[entry])\n",
    "    print(data)"
   ]
  },
  {
   "cell_type": "code",
   "execution_count": null,
   "id": "61b27047",
   "metadata": {},
   "outputs": [],
   "source": []
  }
 ],
 "metadata": {
  "kernelspec": {
   "display_name": "Python 3 (ipykernel)",
   "language": "python",
   "name": "python3"
  },
  "language_info": {
   "codemirror_mode": {
    "name": "ipython",
    "version": 3
   },
   "file_extension": ".py",
   "mimetype": "text/x-python",
   "name": "python",
   "nbconvert_exporter": "python",
   "pygments_lexer": "ipython3",
   "version": "3.9.6"
  }
 },
 "nbformat": 4,
 "nbformat_minor": 5
}
